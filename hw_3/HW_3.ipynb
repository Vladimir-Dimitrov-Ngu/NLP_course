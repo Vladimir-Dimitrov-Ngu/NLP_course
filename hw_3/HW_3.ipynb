{
 "nbformat": 4,
 "nbformat_minor": 0,
 "metadata": {
  "colab": {
   "provenance": []
  },
  "kernelspec": {
   "name": "python3",
   "language": "python",
   "display_name": "Python 3 (ipykernel)"
  },
  "language_info": {
   "name": "python"
  }
 },
 "cells": [
  {
   "cell_type": "code",
   "execution_count": 4,
   "metadata": {
    "colab": {
     "base_uri": "https://localhost:8080/"
    },
    "id": "78Je2ZQfXKx5",
    "outputId": "c190843e-47ec-4554-b073-2f4e2e218ff1"
   },
   "outputs": [
    {
     "output_type": "stream",
     "name": "stdout",
     "text": [
      "--2023-10-05 08:22:20--  https://raw.githubusercontent.com/Vladimir-Dimitrov-Ngu/NLP_course/hw-2/hw_2/data%20spam/spam_or_not_spam.csv\n",
      "Resolving raw.githubusercontent.com (raw.githubusercontent.com)... 185.199.110.133, 185.199.111.133, 185.199.109.133, ...\n",
      "Connecting to raw.githubusercontent.com (raw.githubusercontent.com)|185.199.110.133|:443... connected.\n",
      "HTTP request sent, awaiting response... 200 OK\n",
      "Length: 4256112 (4.1M) [text/plain]\n",
      "Saving to: ‘spam_or_not_spam.csv.3’\n",
      "\n",
      "spam_or_not_spam.cs 100%[===================>]   4.06M  --.-KB/s    in 0.09s   \n",
      "\n",
      "2023-10-05 08:22:20 (43.7 MB/s) - ‘spam_or_not_spam.csv.3’ saved [4256112/4256112]\n"
     ]
    }
   ],
   "source": [
    "# !wget https://raw.githubusercontent.com/Vladimir-Dimitrov-Ngu/NLP_course/hw-2/hw_2/data%20spam/spam_or_not_spam.csv"
   ]
  },
  {
   "cell_type": "code",
   "source": [
    "import pandas as pd\n",
    "import spacy\n",
    "import fasttext\n",
    "from tqdm import trange\n",
    "import os\n",
    "\n",
    "from sklearn.model_selection import train_test_split\n",
    "from sklearn.metrics import classification_report\n",
    "from sklearn.metrics import f1_score\n",
    "\n",
    "RANDOM_STATE = 123"
   ],
   "metadata": {
    "id": "ng-xrLQ3ad_E",
    "ExecuteTime": {
     "end_time": "2023-10-05T09:16:23.089523Z",
     "start_time": "2023-10-05T09:16:23.023611Z"
    }
   },
   "execution_count": 10,
   "outputs": [
    {
     "ename": "ModuleNotFoundError",
     "evalue": "No module named 'pandas'",
     "output_type": "error",
     "traceback": [
      "\u001B[0;31m---------------------------------------------------------------------------\u001B[0m",
      "\u001B[0;31mModuleNotFoundError\u001B[0m                       Traceback (most recent call last)",
      "Cell \u001B[0;32mIn[10], line 1\u001B[0m\n\u001B[0;32m----> 1\u001B[0m \u001B[38;5;28;01mimport\u001B[39;00m \u001B[38;5;21;01mpandas\u001B[39;00m \u001B[38;5;28;01mas\u001B[39;00m \u001B[38;5;21;01mpd\u001B[39;00m\n\u001B[1;32m      2\u001B[0m \u001B[38;5;28;01mimport\u001B[39;00m \u001B[38;5;21;01mspacy\u001B[39;00m\n\u001B[1;32m      3\u001B[0m \u001B[38;5;28;01mimport\u001B[39;00m \u001B[38;5;21;01mfasttext\u001B[39;00m\n",
      "\u001B[0;31mModuleNotFoundError\u001B[0m: No module named 'pandas'"
     ]
    }
   ]
  },
  {
   "cell_type": "code",
   "execution_count": 8,
   "outputs": [
    {
     "ename": "ModuleNotFoundError",
     "evalue": "No module named 'fasttext'",
     "output_type": "error",
     "traceback": [
      "\u001B[0;31m---------------------------------------------------------------------------\u001B[0m",
      "\u001B[0;31mModuleNotFoundError\u001B[0m                       Traceback (most recent call last)",
      "Cell \u001B[0;32mIn[8], line 1\u001B[0m\n\u001B[0;32m----> 1\u001B[0m \u001B[38;5;28;01mimport\u001B[39;00m \u001B[38;5;21;01mfasttext\u001B[39;00m\n",
      "\u001B[0;31mModuleNotFoundError\u001B[0m: No module named 'fasttext'"
     ]
    }
   ],
   "source": [
    "import fasttext"
   ],
   "metadata": {
    "collapsed": false,
    "ExecuteTime": {
     "end_time": "2023-10-05T09:12:18.211752Z",
     "start_time": "2023-10-05T09:12:18.195466Z"
    }
   }
  },
  {
   "cell_type": "code",
   "source": [
    "df = pd.read_csv('spam_or_not_spam.csv')"
   ],
   "metadata": {
    "id": "_EIim_7zaiH3"
   },
   "execution_count": 7,
   "outputs": []
  },
  {
   "cell_type": "code",
   "source": [
    "df.sample(1)"
   ],
   "metadata": {
    "colab": {
     "base_uri": "https://localhost:8080/",
     "height": 80
    },
    "id": "7ynoZ8dvm3oe",
    "outputId": "1dcade5a-434d-4253-abcf-af1c5a214a0a"
   },
   "execution_count": 8,
   "outputs": [
    {
     "output_type": "execute_result",
     "data": {
      "text/plain": [
       "                                                  email  label\n",
       "2674   check out our NUMBER NUMBER NUMBER internet c...      1"
      ],
      "text/html": [
       "\n",
       "  <div id=\"df-0f27db27-bc4f-4f92-bc8b-3a9648ad8bae\" class=\"colab-df-container\">\n",
       "    <div>\n",
       "<style scoped>\n",
       "    .dataframe tbody tr th:only-of-type {\n",
       "        vertical-align: middle;\n",
       "    }\n",
       "\n",
       "    .dataframe tbody tr th {\n",
       "        vertical-align: top;\n",
       "    }\n",
       "\n",
       "    .dataframe thead th {\n",
       "        text-align: right;\n",
       "    }\n",
       "</style>\n",
       "<table border=\"1\" class=\"dataframe\">\n",
       "  <thead>\n",
       "    <tr style=\"text-align: right;\">\n",
       "      <th></th>\n",
       "      <th>email</th>\n",
       "      <th>label</th>\n",
       "    </tr>\n",
       "  </thead>\n",
       "  <tbody>\n",
       "    <tr>\n",
       "      <th>2674</th>\n",
       "      <td>check out our NUMBER NUMBER NUMBER internet c...</td>\n",
       "      <td>1</td>\n",
       "    </tr>\n",
       "  </tbody>\n",
       "</table>\n",
       "</div>\n",
       "    <div class=\"colab-df-buttons\">\n",
       "\n",
       "  <div class=\"colab-df-container\">\n",
       "    <button class=\"colab-df-convert\" onclick=\"convertToInteractive('df-0f27db27-bc4f-4f92-bc8b-3a9648ad8bae')\"\n",
       "            title=\"Convert this dataframe to an interactive table.\"\n",
       "            style=\"display:none;\">\n",
       "\n",
       "  <svg xmlns=\"http://www.w3.org/2000/svg\" height=\"24px\" viewBox=\"0 -960 960 960\">\n",
       "    <path d=\"M120-120v-720h720v720H120Zm60-500h600v-160H180v160Zm220 220h160v-160H400v160Zm0 220h160v-160H400v160ZM180-400h160v-160H180v160Zm440 0h160v-160H620v160ZM180-180h160v-160H180v160Zm440 0h160v-160H620v160Z\"/>\n",
       "  </svg>\n",
       "    </button>\n",
       "\n",
       "  <style>\n",
       "    .colab-df-container {\n",
       "      display:flex;\n",
       "      gap: 12px;\n",
       "    }\n",
       "\n",
       "    .colab-df-convert {\n",
       "      background-color: #E8F0FE;\n",
       "      border: none;\n",
       "      border-radius: 50%;\n",
       "      cursor: pointer;\n",
       "      display: none;\n",
       "      fill: #1967D2;\n",
       "      height: 32px;\n",
       "      padding: 0 0 0 0;\n",
       "      width: 32px;\n",
       "    }\n",
       "\n",
       "    .colab-df-convert:hover {\n",
       "      background-color: #E2EBFA;\n",
       "      box-shadow: 0px 1px 2px rgba(60, 64, 67, 0.3), 0px 1px 3px 1px rgba(60, 64, 67, 0.15);\n",
       "      fill: #174EA6;\n",
       "    }\n",
       "\n",
       "    .colab-df-buttons div {\n",
       "      margin-bottom: 4px;\n",
       "    }\n",
       "\n",
       "    [theme=dark] .colab-df-convert {\n",
       "      background-color: #3B4455;\n",
       "      fill: #D2E3FC;\n",
       "    }\n",
       "\n",
       "    [theme=dark] .colab-df-convert:hover {\n",
       "      background-color: #434B5C;\n",
       "      box-shadow: 0px 1px 3px 1px rgba(0, 0, 0, 0.15);\n",
       "      filter: drop-shadow(0px 1px 2px rgba(0, 0, 0, 0.3));\n",
       "      fill: #FFFFFF;\n",
       "    }\n",
       "  </style>\n",
       "\n",
       "    <script>\n",
       "      const buttonEl =\n",
       "        document.querySelector('#df-0f27db27-bc4f-4f92-bc8b-3a9648ad8bae button.colab-df-convert');\n",
       "      buttonEl.style.display =\n",
       "        google.colab.kernel.accessAllowed ? 'block' : 'none';\n",
       "\n",
       "      async function convertToInteractive(key) {\n",
       "        const element = document.querySelector('#df-0f27db27-bc4f-4f92-bc8b-3a9648ad8bae');\n",
       "        const dataTable =\n",
       "          await google.colab.kernel.invokeFunction('convertToInteractive',\n",
       "                                                    [key], {});\n",
       "        if (!dataTable) return;\n",
       "\n",
       "        const docLinkHtml = 'Like what you see? Visit the ' +\n",
       "          '<a target=\"_blank\" href=https://colab.research.google.com/notebooks/data_table.ipynb>data table notebook</a>'\n",
       "          + ' to learn more about interactive tables.';\n",
       "        element.innerHTML = '';\n",
       "        dataTable['output_type'] = 'display_data';\n",
       "        await google.colab.output.renderOutput(dataTable, element);\n",
       "        const docLink = document.createElement('div');\n",
       "        docLink.innerHTML = docLinkHtml;\n",
       "        element.appendChild(docLink);\n",
       "      }\n",
       "    </script>\n",
       "  </div>\n",
       "\n",
       "    </div>\n",
       "  </div>\n"
      ]
     },
     "metadata": {},
     "execution_count": 8
    }
   ]
  },
  {
   "cell_type": "code",
   "source": [
    "df.dropna(inplace=True)"
   ],
   "metadata": {
    "id": "QLERhz_kqpHG"
   },
   "execution_count": 9,
   "outputs": []
  },
  {
   "cell_type": "code",
   "source": [
    "nlp = spacy.load(\"en_core_web_sm\")\n",
    "stopwords = nlp.Defaults.stop_words"
   ],
   "metadata": {
    "id": "gX2DAXSsplDW"
   },
   "execution_count": 10,
   "outputs": []
  },
  {
   "cell_type": "code",
   "source": [
    "df[\"cleaned_email\"] = df[\"email\"].apply(\n",
    "    lambda x: \" \".join(\n",
    "        token.lemma_.lower()\n",
    "        for token in nlp(x)\n",
    "        if not token.is_stop\n",
    "        and not token.is_punct\n",
    "        and not token.is_digit\n",
    "        and not token.like_email\n",
    "        and not token.like_num\n",
    "        and not token.is_space\n",
    "    )\n",
    ")\n",
    "df.drop(columns='email', inplace=True)"
   ],
   "metadata": {
    "id": "1v4sCZvBp5sI"
   },
   "execution_count": 11,
   "outputs": []
  },
  {
   "cell_type": "code",
   "source": [
    "X_train, X_test, y_train, y_test = train_test_split(\n",
    "    df[\"cleaned_email\"], df[\"label\"], random_state=RANDOM_STATE, test_size=0.2,\n",
    "    stratify = df['label'],\n",
    "    shuffle=True\n",
    "    )"
   ],
   "metadata": {
    "id": "LQI2RTczzqWB"
   },
   "execution_count": 12,
   "outputs": []
  },
  {
   "cell_type": "markdown",
   "source": [
    "### FastText"
   ],
   "metadata": {
    "id": "MdWBxC8bs9hq"
   }
  },
  {
   "cell_type": "code",
   "source": [
    "for index in range(X_train.shape[0]):\n",
    "  X_train.iloc[index] = X_train.iloc[index] + ' __label__' + str(y_train.iloc[index])"
   ],
   "metadata": {
    "id": "hysqyejO0xGl"
   },
   "execution_count": 13,
   "outputs": []
  },
  {
   "cell_type": "code",
   "source": [
    "with open(\"train_email.txt\", \"w\") as f:\n",
    "    for email in X_train:\n",
    "        f.write(\"%s\\n\" % email)\n",
    "del X_train"
   ],
   "metadata": {
    "id": "Hi9XRy3JqBNS"
   },
   "execution_count": 14,
   "outputs": []
  },
  {
   "cell_type": "code",
   "source": [
    "model = fasttext.train_supervised('train_email.txt', dim=1500, thread=4, wordNgrams=2,\n",
    "                            ws=5)\n",
    "# fasttext.train_unsupervised('clean_email.txt', dim=300, thread=4, wordNgrams=3,\n",
    "#                             model='cbow', ws=5)\n",
    "# model.save_model(\"fasttextmodel.bin\")"
   ],
   "metadata": {
    "id": "Ef7zUYeTrvOD"
   },
   "execution_count": null,
   "outputs": []
  },
  {
   "cell_type": "code",
   "source": [
    "predicts = []\n",
    "for index in trange(X_test.shape[0]):\n",
    "  predict_label = model.predict(X_test.iloc[index], 1)[0][0]\n",
    "  if predict_label == '__label__0':\n",
    "    predicts.append(0)\n",
    "  else:\n",
    "    predicts.append(1)"
   ],
   "metadata": {
    "id": "maAgtOfRtuh5"
   },
   "execution_count": null,
   "outputs": []
  },
  {
   "cell_type": "code",
   "source": [
    "print(f1_score(y_test, predicts))\n",
    "print(classification_report(y_test, predicts, zero_division=0))"
   ],
   "metadata": {
    "id": "B7Xkn2GT4ak2"
   },
   "execution_count": null,
   "outputs": []
  }
 ]
}
