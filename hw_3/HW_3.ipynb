{
 "cells": [
  {
   "cell_type": "markdown",
   "source": [
    "### Библиотеки"
   ],
   "metadata": {
    "id": "78Je2ZQfXKx5"
   }
  },
  {
   "cell_type": "code",
   "source": [
    "!wget https://raw.githubusercontent.com/Vladimir-Dimitrov-Ngu/NLP_course/master/hw_2/data%20spam/spam_or_not_spam.csv"
   ],
   "metadata": {
    "id": "77NJNPGfVp-i"
   },
   "execution_count": null,
   "outputs": []
  },
  {
   "cell_type": "code",
   "execution_count": null,
   "metadata": {
    "id": "pNejEoGPqFX_"
   },
   "outputs": [],
   "source": [
    "!pip install fasttext"
   ]
  },
  {
   "cell_type": "code",
   "execution_count": 170,
   "metadata": {
    "id": "ng-xrLQ3ad_E"
   },
   "outputs": [],
   "source": [
    "import pandas as pd\n",
    "import spacy\n",
    "import fasttext\n",
    "from tqdm import trange\n",
    "import os\n",
    "import gensim.models\n",
    "\n",
    "from sklearn.model_selection import train_test_split\n",
    "from sklearn.linear_model import LogisticRegression\n",
    "from sklearn.metrics import classification_report, f1_score\n",
    "\n",
    "import warnings\n",
    "\n",
    "warnings.filterwarnings(\"ignore\")\n",
    "\n",
    "RANDOM_STATE = 123\n",
    "VECTOR_SIZE = 100"
   ]
  },
  {
   "cell_type": "markdown",
   "source": [
    "### Работа с данными"
   ],
   "metadata": {
    "id": "pSdHVwUSVwEL"
   }
  },
  {
   "cell_type": "code",
   "execution_count": 133,
   "metadata": {
    "id": "_EIim_7zaiH3"
   },
   "outputs": [],
   "source": [
    "df = pd.read_csv(\"spam_or_not_spam.csv\")"
   ]
  },
  {
   "cell_type": "code",
   "execution_count": 110,
   "metadata": {
    "colab": {
     "base_uri": "https://localhost:8080/",
     "height": 80
    },
    "id": "7ynoZ8dvm3oe",
    "outputId": "758f4cc3-1c19-45bb-8913-9c630e0a435e"
   },
   "outputs": [
    {
     "output_type": "execute_result",
     "data": {
      "text/plain": [
       "                                                  email  label\n",
       "2542  help wanted we are a NUMBER year old fortune N...      1"
      ],
      "text/html": [
       "\n",
       "  <div id=\"df-570f5aea-ae8b-4465-90e8-1ba7f4104962\" class=\"colab-df-container\">\n",
       "    <div>\n",
       "<style scoped>\n",
       "    .dataframe tbody tr th:only-of-type {\n",
       "        vertical-align: middle;\n",
       "    }\n",
       "\n",
       "    .dataframe tbody tr th {\n",
       "        vertical-align: top;\n",
       "    }\n",
       "\n",
       "    .dataframe thead th {\n",
       "        text-align: right;\n",
       "    }\n",
       "</style>\n",
       "<table border=\"1\" class=\"dataframe\">\n",
       "  <thead>\n",
       "    <tr style=\"text-align: right;\">\n",
       "      <th></th>\n",
       "      <th>email</th>\n",
       "      <th>label</th>\n",
       "    </tr>\n",
       "  </thead>\n",
       "  <tbody>\n",
       "    <tr>\n",
       "      <th>2542</th>\n",
       "      <td>help wanted we are a NUMBER year old fortune N...</td>\n",
       "      <td>1</td>\n",
       "    </tr>\n",
       "  </tbody>\n",
       "</table>\n",
       "</div>\n",
       "    <div class=\"colab-df-buttons\">\n",
       "\n",
       "  <div class=\"colab-df-container\">\n",
       "    <button class=\"colab-df-convert\" onclick=\"convertToInteractive('df-570f5aea-ae8b-4465-90e8-1ba7f4104962')\"\n",
       "            title=\"Convert this dataframe to an interactive table.\"\n",
       "            style=\"display:none;\">\n",
       "\n",
       "  <svg xmlns=\"http://www.w3.org/2000/svg\" height=\"24px\" viewBox=\"0 -960 960 960\">\n",
       "    <path d=\"M120-120v-720h720v720H120Zm60-500h600v-160H180v160Zm220 220h160v-160H400v160Zm0 220h160v-160H400v160ZM180-400h160v-160H180v160Zm440 0h160v-160H620v160ZM180-180h160v-160H180v160Zm440 0h160v-160H620v160Z\"/>\n",
       "  </svg>\n",
       "    </button>\n",
       "\n",
       "  <style>\n",
       "    .colab-df-container {\n",
       "      display:flex;\n",
       "      gap: 12px;\n",
       "    }\n",
       "\n",
       "    .colab-df-convert {\n",
       "      background-color: #E8F0FE;\n",
       "      border: none;\n",
       "      border-radius: 50%;\n",
       "      cursor: pointer;\n",
       "      display: none;\n",
       "      fill: #1967D2;\n",
       "      height: 32px;\n",
       "      padding: 0 0 0 0;\n",
       "      width: 32px;\n",
       "    }\n",
       "\n",
       "    .colab-df-convert:hover {\n",
       "      background-color: #E2EBFA;\n",
       "      box-shadow: 0px 1px 2px rgba(60, 64, 67, 0.3), 0px 1px 3px 1px rgba(60, 64, 67, 0.15);\n",
       "      fill: #174EA6;\n",
       "    }\n",
       "\n",
       "    .colab-df-buttons div {\n",
       "      margin-bottom: 4px;\n",
       "    }\n",
       "\n",
       "    [theme=dark] .colab-df-convert {\n",
       "      background-color: #3B4455;\n",
       "      fill: #D2E3FC;\n",
       "    }\n",
       "\n",
       "    [theme=dark] .colab-df-convert:hover {\n",
       "      background-color: #434B5C;\n",
       "      box-shadow: 0px 1px 3px 1px rgba(0, 0, 0, 0.15);\n",
       "      filter: drop-shadow(0px 1px 2px rgba(0, 0, 0, 0.3));\n",
       "      fill: #FFFFFF;\n",
       "    }\n",
       "  </style>\n",
       "\n",
       "    <script>\n",
       "      const buttonEl =\n",
       "        document.querySelector('#df-570f5aea-ae8b-4465-90e8-1ba7f4104962 button.colab-df-convert');\n",
       "      buttonEl.style.display =\n",
       "        google.colab.kernel.accessAllowed ? 'block' : 'none';\n",
       "\n",
       "      async function convertToInteractive(key) {\n",
       "        const element = document.querySelector('#df-570f5aea-ae8b-4465-90e8-1ba7f4104962');\n",
       "        const dataTable =\n",
       "          await google.colab.kernel.invokeFunction('convertToInteractive',\n",
       "                                                    [key], {});\n",
       "        if (!dataTable) return;\n",
       "\n",
       "        const docLinkHtml = 'Like what you see? Visit the ' +\n",
       "          '<a target=\"_blank\" href=https://colab.research.google.com/notebooks/data_table.ipynb>data table notebook</a>'\n",
       "          + ' to learn more about interactive tables.';\n",
       "        element.innerHTML = '';\n",
       "        dataTable['output_type'] = 'display_data';\n",
       "        await google.colab.output.renderOutput(dataTable, element);\n",
       "        const docLink = document.createElement('div');\n",
       "        docLink.innerHTML = docLinkHtml;\n",
       "        element.appendChild(docLink);\n",
       "      }\n",
       "    </script>\n",
       "  </div>\n",
       "\n",
       "    </div>\n",
       "  </div>\n"
      ]
     },
     "metadata": {},
     "execution_count": 110
    }
   ],
   "source": [
    "df.sample(1)"
   ]
  },
  {
   "cell_type": "code",
   "execution_count": 134,
   "metadata": {
    "id": "QLERhz_kqpHG"
   },
   "outputs": [],
   "source": [
    "df.dropna(inplace=True)"
   ]
  },
  {
   "cell_type": "code",
   "execution_count": 112,
   "metadata": {
    "id": "gX2DAXSsplDW"
   },
   "outputs": [],
   "source": [
    "nlp = spacy.load(\"en_core_web_sm\")\n",
    "stopwords = nlp.Defaults.stop_words"
   ]
  },
  {
   "cell_type": "code",
   "execution_count": 135,
   "metadata": {
    "id": "1v4sCZvBp5sI"
   },
   "outputs": [],
   "source": [
    "df[\"cleaned_email\"] = df[\"email\"].apply(\n",
    "    lambda x: \" \".join(\n",
    "        token.lemma_.lower()\n",
    "        for token in nlp(x)\n",
    "        if not token.is_stop\n",
    "        and not token.is_punct\n",
    "        and not token.is_digit\n",
    "        and not token.like_email\n",
    "        and not token.like_num\n",
    "        and not token.is_space\n",
    "        and len(token) > 1\n",
    "    )\n",
    ")\n",
    "df.drop(columns=\"email\", inplace=True)"
   ]
  },
  {
   "cell_type": "code",
   "source": [
    "index = []\n",
    "for i, email in enumerate(df[\"cleaned_email\"]):\n",
    "    if len(email) == 0:\n",
    "        index.append(i)\n",
    "df.drop(index, inplace=True)\n",
    "del index"
   ],
   "metadata": {
    "id": "NT1AGNt7EXU6"
   },
   "execution_count": 138,
   "outputs": []
  },
  {
   "cell_type": "code",
   "execution_count": 9,
   "metadata": {
    "id": "AJJtn2_CsWw6"
   },
   "outputs": [],
   "source": [
    "# df.to_csv('Cleaned_data.csv')\n",
    "# df = pd.read_csv('Cleaned_data.csv', index_col=0)\n",
    "# df.reset_index(drop=True)"
   ]
  },
  {
   "cell_type": "code",
   "execution_count": 204,
   "metadata": {
    "id": "jJW1ksJBs1Vw"
   },
   "outputs": [],
   "source": [
    "X_train, X_test, y_train, y_test = train_test_split(\n",
    "    df[\"cleaned_email\"],\n",
    "    df[\"label\"],\n",
    "    random_state=RANDOM_STATE,\n",
    "    test_size=0.2,\n",
    "    stratify=df[\"label\"],\n",
    "    shuffle=True,\n",
    ")"
   ]
  },
  {
   "cell_type": "markdown",
   "source": [
    "### Word2Vec"
   ],
   "metadata": {
    "id": "A--VNm-BmT6u"
   }
  },
  {
   "cell_type": "markdown",
   "source": [
    "#### Scipgram"
   ],
   "metadata": {
    "id": "nkgQx-D2mXuA"
   }
  },
  {
   "cell_type": "code",
   "source": [
    "X_train_token = [j.split() for j in X_train]\n",
    "X_train_token[0][::15]"
   ],
   "metadata": {
    "colab": {
     "base_uri": "https://localhost:8080/"
    },
    "id": "Sy5G_v0Pmc24",
    "outputId": "9bd7a663-aabe-48e1-bd94-b4f67da505f3"
   },
   "execution_count": 152,
   "outputs": [
    {
     "output_type": "execute_result",
     "data": {
      "text/plain": [
       "['url', 'iraq']"
      ]
     },
     "metadata": {},
     "execution_count": 152
    }
   ]
  },
  {
   "cell_type": "code",
   "source": [
    "X_test_token = [j.split() for j in X_test]\n",
    "X_test_token[0][::15]"
   ],
   "metadata": {
    "colab": {
     "base_uri": "https://localhost:8080/"
    },
    "id": "unL5hm4gFoiX",
    "outputId": "c13cbcc0-430a-4d60-b0f7-b9abd3fbb4a0"
   },
   "execution_count": 153,
   "outputs": [
    {
     "output_type": "execute_result",
     "data": {
      "text/plain": [
       "['url', 'sentence', 'annoying', 'look']"
      ]
     },
     "metadata": {},
     "execution_count": 153
    }
   ]
  },
  {
   "cell_type": "code",
   "source": [
    "model_sg = gensim.models.Word2Vec(\n",
    "    sentences=X_train_token,\n",
    "    vector_size=VECTOR_SIZE,  # default = 100\n",
    "    window=7,  # default = 5\n",
    "    min_count=10,\n",
    "    sg=1,  # Training algorithm: 1 for skip-gram; otherwise CBOW\n",
    "    hs=0,  #  If 1, hierarchical softmax will be used for model training. If 0, and negative is non-zero, negative sampling will be used.\n",
    "    negative=5,  # If > 0, negative sampling will be used, if set to 0, no negative sampling is used.\n",
    "    epochs=25,  # Number of iterations (epochs) over the corpus\n",
    "    seed=RANDOM_STATE,\n",
    ")"
   ],
   "metadata": {
    "id": "Q1gz1PRbo4fy"
   },
   "execution_count": 171,
   "outputs": []
  },
  {
   "cell_type": "code",
   "source": [
    "model_sg.wv.most_similar(positive=[\"fine\"], topn=5)"
   ],
   "metadata": {
    "colab": {
     "base_uri": "https://localhost:8080/"
    },
    "id": "fWz73HdOrc9Q",
    "outputId": "b31e6e8f-0d08-4cae-b924-972e30ec6405"
   },
   "execution_count": 62,
   "outputs": [
    {
     "output_type": "execute_result",
     "data": {
      "text/plain": [
       "[('work', 0.5464556813240051),\n",
       " ('vjestika', 0.4894667863845825),\n",
       " ('ille', 0.46986567974090576),\n",
       " ('sweet', 0.467107355594635),\n",
       " ('valhalla', 0.44986072182655334)]"
      ]
     },
     "metadata": {},
     "execution_count": 62
    }
   ]
  },
  {
   "cell_type": "code",
   "source": [
    "model_sg.wv.most_similar(negative=[\"terrible\"], topn=5)"
   ],
   "metadata": {
    "colab": {
     "base_uri": "https://localhost:8080/"
    },
    "id": "v32SXRPHqxwf",
    "outputId": "f99ef675-d683-4a1b-bd3e-2343457f89b2"
   },
   "execution_count": 63,
   "outputs": [
    {
     "output_type": "execute_result",
     "data": {
      "text/plain": [
       "[('ref', 0.19713957607746124),\n",
       " ('collection', 0.1423400342464447),\n",
       " ('major', 0.12957414984703064),\n",
       " ('compensation', 0.1172618642449379),\n",
       " ('credit', 0.09586060047149658)]"
      ]
     },
     "metadata": {},
     "execution_count": 63
    }
   ]
  },
  {
   "cell_type": "code",
   "source": [
    "model_sg.wv.most_similar(positive=[\"spam\"], topn=5)"
   ],
   "metadata": {
    "colab": {
     "base_uri": "https://localhost:8080/"
    },
    "id": "r0OHEjvfq7Ol",
    "outputId": "54d7bc53-0624-4663-dc87-1876205d2007"
   },
   "execution_count": 40,
   "outputs": [
    {
     "output_type": "execute_result",
     "data": {
      "text/plain": [
       "[('ham', 0.7495163083076477),\n",
       " ('corpus', 0.675554096698761),\n",
       " ('filter', 0.6496372222900391),\n",
       " ('positive', 0.5836422443389893),\n",
       " ('sa', 0.5803134441375732)]"
      ]
     },
     "metadata": {},
     "execution_count": 40
    }
   ]
  },
  {
   "cell_type": "code",
   "source": [
    "model_sg.wv.most_similar(negative=[\"spam\"], topn=5)"
   ],
   "metadata": {
    "colab": {
     "base_uri": "https://localhost:8080/"
    },
    "id": "RxQ2jVvprCRW",
    "outputId": "d787f5a0-0b45-4589-fae3-516f09c0bb1b"
   },
   "execution_count": 41,
   "outputs": [
    {
     "output_type": "execute_result",
     "data": {
      "text/plain": [
       "[('revolutionary', 0.15025007724761963),\n",
       " ('baby', 0.12427569925785065),\n",
       " ('wallace', 0.09568031132221222),\n",
       " ('rush', 0.09032419323921204),\n",
       " ('innovation', 0.08799225091934204)]"
      ]
     },
     "metadata": {},
     "execution_count": 41
    }
   ]
  },
  {
   "cell_type": "code",
   "source": [
    "for i, sentence in enumerate(X_train_token):\n",
    "    vector_mean = model_sg.wv.get_mean_vector(sentence).reshape(-1, VECTOR_SIZE)\n",
    "    if i == 0:\n",
    "        X_train_mean_vector = pd.DataFrame(vector_mean)\n",
    "    else:\n",
    "        X_train_mean_vector = X_train_mean_vector.append(pd.DataFrame(vector_mean))"
   ],
   "metadata": {
    "id": "VvFMclPyKpPI"
   },
   "execution_count": 172,
   "outputs": []
  },
  {
   "cell_type": "code",
   "source": [
    "for i, sentence in enumerate(X_test_token):\n",
    "    vector_mean = model_sg.wv.get_mean_vector(sentence).reshape(-1, VECTOR_SIZE)\n",
    "    if i == 0:\n",
    "        X_test_mean_vector = pd.DataFrame(vector_mean)\n",
    "    else:\n",
    "        X_test_mean_vector = X_test_mean_vector.append(pd.DataFrame(vector_mean))"
   ],
   "metadata": {
    "id": "myWRG8_zPmaz"
   },
   "execution_count": 173,
   "outputs": []
  },
  {
   "cell_type": "code",
   "source": [
    "model_lr = LogisticRegression()\n",
    "model_lr.fit(X_train_mean_vector, y_train)\n",
    "predict = model_lr.predict(X_test_mean_vector)\n",
    "print(\"f1_score: %.2f\" % f1_score(y_test, predict))\n",
    "print(\"\\n\")\n",
    "print(classification_report(y_test, predict))"
   ],
   "metadata": {
    "colab": {
     "base_uri": "https://localhost:8080/"
    },
    "id": "1FOs0TgzPqwm",
    "outputId": "776644d4-4ecf-493b-c204-24e3f8fa17b4"
   },
   "execution_count": 194,
   "outputs": [
    {
     "output_type": "stream",
     "name": "stdout",
     "text": [
      "f1_score: 0.79\n",
      "              precision    recall  f1-score   support\n",
      "\n",
      "           0       0.94      1.00      0.97       501\n",
      "           1       1.00      0.66      0.79        99\n",
      "\n",
      "    accuracy                           0.94       600\n",
      "   macro avg       0.97      0.83      0.88       600\n",
      "weighted avg       0.95      0.94      0.94       600\n",
      "\n"
     ]
    }
   ]
  },
  {
   "cell_type": "markdown",
   "source": [
    "#### BOW"
   ],
   "metadata": {
    "id": "grzo-StNrII2"
   }
  },
  {
   "cell_type": "code",
   "source": [
    "model_cbow = gensim.models.Word2Vec(\n",
    "    sentences=X_train_token,\n",
    "    vector_size=VECTOR_SIZE,  # default = 100\n",
    "    window=7,  # default = 5\n",
    "    min_count=10,\n",
    "    sg=0,  # Training algorithm: 1 for skip-gram; otherwise CBOW\n",
    "    hs=0,  #  If 1, hierarchical softmax will be used for model training. If 0, and negative is non-zero, negative sampling will be used.\n",
    "    negative=5,  # If > 0, negative sampling will be used, if set to 0, no negative sampling is used.\n",
    "    epochs=25,  # Number of iterations (epochs) over the corpus\n",
    "    seed=RANDOM_STATE,\n",
    ")"
   ],
   "metadata": {
    "id": "gg8rvobXrqyl"
   },
   "execution_count": 43,
   "outputs": []
  },
  {
   "cell_type": "code",
   "source": [
    "model_cbow.wv.most_similar(positive=[\"fine\"], topn=5)"
   ],
   "metadata": {
    "colab": {
     "base_uri": "https://localhost:8080/"
    },
    "id": "BI_ne8oFryGI",
    "outputId": "f65cbba0-566f-4e0c-98d0-4c8011e54994"
   },
   "execution_count": 44,
   "outputs": [
    {
     "output_type": "execute_result",
     "data": {
      "text/plain": [
       "[('dev', 0.4817737638950348),\n",
       " ('vanilla', 0.46075740456581116),\n",
       " ('dual', 0.45963799953460693),\n",
       " ('scsi', 0.4586797058582306),\n",
       " ('rhnumber', 0.45547837018966675)]"
      ]
     },
     "metadata": {},
     "execution_count": 44
    }
   ]
  },
  {
   "cell_type": "code",
   "source": [
    "model_cbow.wv.most_similar(negative=[\"terrible\"], topn=5)"
   ],
   "metadata": {
    "colab": {
     "base_uri": "https://localhost:8080/"
    },
    "id": "h7A2aNs2rzco",
    "outputId": "96643d96-c7d9-46d3-f018-d02ed2fc9381"
   },
   "execution_count": 45,
   "outputs": [
    {
     "output_type": "execute_result",
     "data": {
      "text/plain": [
       "[('rfc', 0.482142835855484),\n",
       " ('fold', 0.4635330140590668),\n",
       " ('authorize', 0.4297294318675995),\n",
       " ('envelope', 0.40327364206314087),\n",
       " ('mh_sequence', 0.3766980767250061)]"
      ]
     },
     "metadata": {},
     "execution_count": 45
    }
   ]
  },
  {
   "cell_type": "code",
   "source": [
    "model_cbow.wv.most_similar(positive=[\"spam\"], topn=5)"
   ],
   "metadata": {
    "colab": {
     "base_uri": "https://localhost:8080/"
    },
    "id": "dNHmnwykr0sO",
    "outputId": "3c6efd46-217c-414a-cf5f-ad75e300b0e2"
   },
   "execution_count": 46,
   "outputs": [
    {
     "output_type": "execute_result",
     "data": {
      "text/plain": [
       "[('ham', 0.603894829750061),\n",
       " ('filter', 0.5881020426750183),\n",
       " ('spammer', 0.5675072073936462),\n",
       " ('corpus', 0.5337340235710144),\n",
       " ('positive', 0.5271260142326355)]"
      ]
     },
     "metadata": {},
     "execution_count": 46
    }
   ]
  },
  {
   "cell_type": "code",
   "source": [
    "model_cbow.wv.most_similar(negative=[\"spam\"], topn=5)"
   ],
   "metadata": {
    "colab": {
     "base_uri": "https://localhost:8080/"
    },
    "id": "DIIw-E3Yr2Rc",
    "outputId": "ebae3b9c-fe1a-46df-b545-f504a593c0d0"
   },
   "execution_count": 47,
   "outputs": [
    {
     "output_type": "execute_result",
     "data": {
      "text/plain": [
       "[('colony', 0.3809428811073303),\n",
       " ('royalty', 0.3681044578552246),\n",
       " ('fruit', 0.36523672938346863),\n",
       " ('soldier', 0.3633030652999878),\n",
       " ('baby', 0.3588408827781677)]"
      ]
     },
     "metadata": {},
     "execution_count": 47
    }
   ]
  },
  {
   "cell_type": "code",
   "source": [
    "for i, sentence in enumerate(X_train_token):\n",
    "    vector_mean = model_cbow.wv.get_mean_vector(sentence).reshape(-1, VECTOR_SIZE)\n",
    "    if i == 0:\n",
    "        X_train_mean_vector = pd.DataFrame(vector_mean)\n",
    "    else:\n",
    "        X_train_mean_vector = X_train_mean_vector.append(pd.DataFrame(vector_mean))"
   ],
   "metadata": {
    "id": "lEJPPx4A2yBN"
   },
   "execution_count": 146,
   "outputs": []
  },
  {
   "cell_type": "code",
   "source": [
    "for i, sentence in enumerate(X_test_token):\n",
    "    vector_mean = model_cbow.wv.get_mean_vector(sentence).reshape(-1, VECTOR_SIZE)\n",
    "    if i == 0:\n",
    "        X_test_mean_vector = pd.DataFrame(vector_mean)\n",
    "    else:\n",
    "        X_test_mean_vector = X_test_mean_vector.append(pd.DataFrame(vector_mean))"
   ],
   "metadata": {
    "id": "xrNpIWYNFgBf"
   },
   "execution_count": 155,
   "outputs": []
  },
  {
   "cell_type": "code",
   "source": [
    "model_lr = LogisticRegression()\n",
    "model_lr.fit(X_train_mean_vector, y_train)\n",
    "predict = model_lr.predict(X_test_mean_vector)\n",
    "print(\"f1_score: %.2f\" % f1_score(y_test, predict))\n",
    "print(\"\\n\")\n",
    "print(classification_report(y_test, predict))"
   ],
   "metadata": {
    "colab": {
     "base_uri": "https://localhost:8080/"
    },
    "id": "E9rNG_VkCq7K",
    "outputId": "1a147bf5-d883-4780-f6d6-ffb4ce9c0e09"
   },
   "execution_count": 168,
   "outputs": [
    {
     "output_type": "stream",
     "name": "stdout",
     "text": [
      "f1_score: 0.8\n",
      "              precision    recall  f1-score   support\n",
      "\n",
      "           0       0.94      1.00      0.97       501\n",
      "           1       1.00      0.67      0.80        99\n",
      "\n",
      "    accuracy                           0.94       600\n",
      "   macro avg       0.97      0.83      0.88       600\n",
      "weighted avg       0.95      0.94      0.94       600\n",
      "\n"
     ]
    }
   ]
  },
  {
   "cell_type": "markdown",
   "source": [
    "### GLOVE"
   ],
   "metadata": {
    "id": "lTc4JwjPsEgM"
   }
  },
  {
   "cell_type": "markdown",
   "metadata": {
    "id": "MdWBxC8bs9hq"
   },
   "source": [
    "### FastText"
   ]
  },
  {
   "cell_type": "markdown",
   "metadata": {
    "id": "nL2V5UyDxfhI"
   },
   "source": [
    "##### Внешняя модель"
   ]
  },
  {
   "cell_type": "code",
   "execution_count": 11,
   "metadata": {
    "id": "uP6JsKTHxl8M"
   },
   "outputs": [],
   "source": [
    "with open(\"clean_email.txt\", \"w\") as f:\n",
    "    for email in X_train:\n",
    "        f.write(\"%s\\n\" % email)"
   ]
  },
  {
   "cell_type": "code",
   "execution_count": 230,
   "metadata": {
    "id": "lf1qzvwCxiWK"
   },
   "outputs": [],
   "source": [
    "model_fast = fasttext.train_unsupervised(\n",
    "    \"clean_email.txt\", dim=VECTOR_SIZE, wordNgrams=1, model=\"cbow\", ws=5\n",
    ")\n",
    "# model.save_model(\"fasttextmodel_1.bin\")"
   ]
  },
  {
   "cell_type": "code",
   "execution_count": 22,
   "metadata": {
    "colab": {
     "base_uri": "https://localhost:8080/"
    },
    "id": "w1_93WUcxzsy",
    "outputId": "44e7b2c8-b26e-44ce-a690-43b268cba57b"
   },
   "outputs": [
    {
     "output_type": "execute_result",
     "data": {
      "text/plain": [
       "[(0.99679034948349, 'divorce'),\n",
       " (0.9962118864059448, 'sale'),\n",
       " (0.9960272908210754, 'acquire'),\n",
       " (0.9959859251976013, 'sufficiently'),\n",
       " (0.9955005049705505, 'efficiency')]"
      ]
     },
     "metadata": {},
     "execution_count": 22
    }
   ],
   "source": [
    "model_fast.get_nearest_neighbors(\"terrible\", k=5)"
   ]
  },
  {
   "cell_type": "code",
   "source": [
    "model_fast.get_nearest_neighbors(\"spam\", k=5)"
   ],
   "metadata": {
    "colab": {
     "base_uri": "https://localhost:8080/"
    },
    "id": "josotiz4nc34",
    "outputId": "7e7ea00d-97c3-49c0-9520-ccfff12f2e56"
   },
   "execution_count": 21,
   "outputs": [
    {
     "output_type": "execute_result",
     "data": {
      "text/plain": [
       "[(0.994591236114502, 'spamd'),\n",
       " (0.992931604385376, 'spamc'),\n",
       " (0.9835136532783508, 'spamme'),\n",
       " (0.979175865650177, 'spambaye'),\n",
       " (0.9728814363479614, 'spawn')]"
      ]
     },
     "metadata": {},
     "execution_count": 21
    }
   ]
  },
  {
   "cell_type": "code",
   "source": [
    "for i, sentence in enumerate(X_train):\n",
    "    vector_mean = model_fast.get_sentence_vector(sentence).reshape(-1, VECTOR_SIZE)\n",
    "    if i == 0:\n",
    "        X_train_mean_vector = pd.DataFrame(vector_mean)\n",
    "    else:\n",
    "        X_train_mean_vector = X_train_mean_vector.append(pd.DataFrame(vector_mean))"
   ],
   "metadata": {
    "id": "xqbc7mJBQj4w"
   },
   "execution_count": 235,
   "outputs": []
  },
  {
   "cell_type": "code",
   "source": [
    "for i, sentence in enumerate(X_test):\n",
    "    vector_mean = model_fast.get_sentence_vector(sentence).reshape(-1, VECTOR_SIZE)\n",
    "    if i == 0:\n",
    "        X_test_mean_vector = pd.DataFrame(vector_mean)\n",
    "    else:\n",
    "        X_test_mean_vector = X_test_mean_vector.append(pd.DataFrame(vector_mean))"
   ],
   "metadata": {
    "id": "ZZGhNmPcS32Y"
   },
   "execution_count": 232,
   "outputs": []
  },
  {
   "cell_type": "code",
   "source": [
    "model_lr = LogisticRegression()\n",
    "model_lr.fit(X_train_mean_vector, y_train)\n",
    "predict = model_lr.predict(X_test_mean_vector)\n",
    "print(\"f1_score: %.2f\" % f1_score(y_test, predict))\n",
    "print(\"\\n\")\n",
    "print(classification_report(y_test, predict))"
   ],
   "metadata": {
    "colab": {
     "base_uri": "https://localhost:8080/"
    },
    "id": "Rm8xUEAfTAO-",
    "outputId": "679b94b5-42ab-4d8a-ed6c-5d54e12e25dd"
   },
   "execution_count": 242,
   "outputs": [
    {
     "output_type": "stream",
     "name": "stdout",
     "text": [
      "f1_score: 0.68\n",
      "\n",
      "\n",
      "              precision    recall  f1-score   support\n",
      "\n",
      "           0       0.92      0.99      0.95       501\n",
      "           1       0.89      0.56      0.68        99\n",
      "\n",
      "    accuracy                           0.92       600\n",
      "   macro avg       0.90      0.77      0.82       600\n",
      "weighted avg       0.91      0.92      0.91       600\n",
      "\n"
     ]
    }
   ]
  },
  {
   "cell_type": "markdown",
   "metadata": {
    "id": "EMXQ1Rt5xcGx"
   },
   "source": [
    "##### Внутренняя модель"
   ]
  },
  {
   "cell_type": "code",
   "execution_count": 237,
   "metadata": {
    "id": "hysqyejO0xGl"
   },
   "outputs": [],
   "source": [
    "for index in range(X_train.shape[0]):\n",
    "    X_train.iloc[index] = X_train.iloc[index] + \" __label__\" + str(y_train.iloc[index])"
   ]
  },
  {
   "cell_type": "code",
   "execution_count": 238,
   "metadata": {
    "id": "Hi9XRy3JqBNS"
   },
   "outputs": [],
   "source": [
    "with open(\"train_email.txt\", \"w\") as f:\n",
    "    for email in X_train:\n",
    "        f.write(\"%s\\n\" % email)\n",
    "# Внутренняя модель\n",
    "model_fast = fasttext.train_supervised(\n",
    "    \"train_email.txt\", dim=500, thread=4, wordNgrams=2, ws=5\n",
    ")\n",
    "# model.save_model(\"fasttextmodel_2.bin\")"
   ]
  },
  {
   "cell_type": "code",
   "execution_count": 239,
   "metadata": {
    "colab": {
     "base_uri": "https://localhost:8080/"
    },
    "id": "maAgtOfRtuh5",
    "outputId": "7d7332fc-60b7-4892-8f3c-dacf7c88f458"
   },
   "outputs": [
    {
     "output_type": "stream",
     "name": "stderr",
     "text": [
      "100%|██████████| 600/600 [00:00<00:00, 3184.30it/s]\n"
     ]
    }
   ],
   "source": [
    "predicts = []\n",
    "for index in trange(X_test.shape[0]):\n",
    "    predict_label = model_fast.predict(X_test.iloc[index], 1)[0][0]\n",
    "    if predict_label == \"__label__0\":\n",
    "        predicts.append(0)\n",
    "    else:\n",
    "        predicts.append(1)"
   ]
  },
  {
   "cell_type": "code",
   "execution_count": 241,
   "metadata": {
    "colab": {
     "base_uri": "https://localhost:8080/"
    },
    "id": "B7Xkn2GT4ak2",
    "outputId": "030e3ba8-e283-4267-a318-f0cb604c2016"
   },
   "outputs": [
    {
     "output_type": "stream",
     "name": "stdout",
     "text": [
      "f1_score: 0.68\n",
      "              precision    recall  f1-score   support\n",
      "\n",
      "           0       0.90      1.00      0.95       501\n",
      "           1       1.00      0.43      0.61        99\n",
      "\n",
      "    accuracy                           0.91       600\n",
      "   macro avg       0.95      0.72      0.78       600\n",
      "weighted avg       0.92      0.91      0.89       600\n",
      "\n"
     ]
    }
   ],
   "source": [
    "print(\"f1_score: %.2f\" % f1_score(y_test, predict))\n",
    "print(\"\\n\")\n",
    "print(classification_report(y_test, predicts, zero_division=0))"
   ]
  }
 ],
 "metadata": {
  "colab": {
   "provenance": []
  },
  "kernelspec": {
   "display_name": "Python 3",
   "name": "python3"
  },
  "language_info": {
   "name": "python"
  }
 },
 "nbformat": 4,
 "nbformat_minor": 0
}